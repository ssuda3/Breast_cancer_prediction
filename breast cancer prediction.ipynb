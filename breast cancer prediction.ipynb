{
 "metadata": {
  "name": "",
  "signature": "sha256:d1f8d96a5a37eb9de9d3d162243f0fe4ec2c3ced1e457bcb57fb6643fcdb0ec9"
 },
 "nbformat": 3,
 "nbformat_minor": 0,
 "worksheets": [
  {
   "cells": [
    {
     "cell_type": "code",
     "collapsed": false,
     "input": [
      "%pylab inline\n",
      "%matplotlib inline"
     ],
     "language": "python",
     "metadata": {},
     "outputs": [
      {
       "output_type": "stream",
       "stream": "stdout",
       "text": [
        "Populating the interactive namespace from numpy and matplotlib\n"
       ]
      }
     ],
     "prompt_number": 3
    },
    {
     "cell_type": "code",
     "collapsed": false,
     "input": [
      "from sklearn.ensemble import RandomForestRegressor\n",
      "from sklearn.metrics import roc_auc_score\n",
      "import pandas as pd\n",
      "X = pd.read_csv(\"breast_cancer.csv\")\n",
      "# drop unnamed and id number since they do not help in prediction. \n",
      "X.drop([\"Unnamed: 0\", \"id number\"], axis=1, inplace=True)"
     ],
     "language": "python",
     "metadata": {},
     "outputs": [],
     "prompt_number": 4
    },
    {
     "cell_type": "heading",
     "level": 1,
     "metadata": {},
     "source": [
      "To list and identify all the columns"
     ]
    },
    {
     "cell_type": "code",
     "collapsed": false,
     "input": [
      "X.columns"
     ],
     "language": "python",
     "metadata": {},
     "outputs": [
      {
       "metadata": {},
       "output_type": "pyout",
       "prompt_number": 5,
       "text": [
        "Index([u'clump_thickness', u'uniformity_of_cell_size', u'uniformity_of_cell_shape', u'marginal_adhesion', u'epithelial_cell_size', u'bare_nuclei', u'bland_chromatin', u'normal_nucleoli', u'mitoses', u'malignant'], dtype='object')"
       ]
      }
     ],
     "prompt_number": 5
    },
    {
     "cell_type": "heading",
     "level": 2,
     "metadata": {},
     "source": [
      "I select Malignant as the dependent variable"
     ]
    },
    {
     "cell_type": "code",
     "collapsed": false,
     "input": [
      "y = X.pop(\"malignant\")"
     ],
     "language": "python",
     "metadata": {},
     "outputs": [],
     "prompt_number": 6
    },
    {
     "cell_type": "code",
     "collapsed": false,
     "input": [
      "X.head()"
     ],
     "language": "python",
     "metadata": {},
     "outputs": [
      {
       "html": [
        "<div style=\"max-height:1000px;max-width:1500px;overflow:auto;\">\n",
        "<table border=\"1\" class=\"dataframe\">\n",
        "  <thead>\n",
        "    <tr style=\"text-align: right;\">\n",
        "      <th></th>\n",
        "      <th>clump_thickness</th>\n",
        "      <th>uniformity_of_cell_size</th>\n",
        "      <th>uniformity_of_cell_shape</th>\n",
        "      <th>marginal_adhesion</th>\n",
        "      <th>epithelial_cell_size</th>\n",
        "      <th>bare_nuclei</th>\n",
        "      <th>bland_chromatin</th>\n",
        "      <th>normal_nucleoli</th>\n",
        "      <th>mitoses</th>\n",
        "    </tr>\n",
        "  </thead>\n",
        "  <tbody>\n",
        "    <tr>\n",
        "      <th>0</th>\n",
        "      <td> 5</td>\n",
        "      <td> 1</td>\n",
        "      <td> 1</td>\n",
        "      <td> 1</td>\n",
        "      <td> 2</td>\n",
        "      <td>  1</td>\n",
        "      <td> 3</td>\n",
        "      <td> 1</td>\n",
        "      <td> 1</td>\n",
        "    </tr>\n",
        "    <tr>\n",
        "      <th>1</th>\n",
        "      <td> 5</td>\n",
        "      <td> 4</td>\n",
        "      <td> 4</td>\n",
        "      <td> 5</td>\n",
        "      <td> 7</td>\n",
        "      <td> 10</td>\n",
        "      <td> 3</td>\n",
        "      <td> 2</td>\n",
        "      <td> 1</td>\n",
        "    </tr>\n",
        "    <tr>\n",
        "      <th>2</th>\n",
        "      <td> 3</td>\n",
        "      <td> 1</td>\n",
        "      <td> 1</td>\n",
        "      <td> 1</td>\n",
        "      <td> 2</td>\n",
        "      <td>  2</td>\n",
        "      <td> 3</td>\n",
        "      <td> 1</td>\n",
        "      <td> 1</td>\n",
        "    </tr>\n",
        "    <tr>\n",
        "      <th>3</th>\n",
        "      <td> 6</td>\n",
        "      <td> 8</td>\n",
        "      <td> 8</td>\n",
        "      <td> 1</td>\n",
        "      <td> 3</td>\n",
        "      <td>  4</td>\n",
        "      <td> 3</td>\n",
        "      <td> 7</td>\n",
        "      <td> 1</td>\n",
        "    </tr>\n",
        "    <tr>\n",
        "      <th>4</th>\n",
        "      <td> 4</td>\n",
        "      <td> 1</td>\n",
        "      <td> 1</td>\n",
        "      <td> 3</td>\n",
        "      <td> 2</td>\n",
        "      <td>  1</td>\n",
        "      <td> 3</td>\n",
        "      <td> 1</td>\n",
        "      <td> 1</td>\n",
        "    </tr>\n",
        "  </tbody>\n",
        "</table>\n",
        "</div>"
       ],
       "metadata": {},
       "output_type": "pyout",
       "prompt_number": 7,
       "text": [
        "   clump_thickness  uniformity_of_cell_size  uniformity_of_cell_shape  \\\n",
        "0                5                        1                         1   \n",
        "1                5                        4                         4   \n",
        "2                3                        1                         1   \n",
        "3                6                        8                         8   \n",
        "4                4                        1                         1   \n",
        "\n",
        "   marginal_adhesion  epithelial_cell_size  bare_nuclei  bland_chromatin  \\\n",
        "0                  1                     2            1                3   \n",
        "1                  5                     7           10                3   \n",
        "2                  1                     2            2                3   \n",
        "3                  1                     3            4                3   \n",
        "4                  3                     2            1                3   \n",
        "\n",
        "   normal_nucleoli  mitoses  \n",
        "0                1        1  \n",
        "1                2        1  \n",
        "2                1        1  \n",
        "3                7        1  \n",
        "4                1        1  "
       ]
      }
     ],
     "prompt_number": 7
    },
    {
     "cell_type": "markdown",
     "metadata": {},
     "source": [
      "####From the above data set, we can confer that it contains numerical values."
     ]
    },
    {
     "cell_type": "heading",
     "level": 1,
     "metadata": {},
     "source": [
      "Building the first model."
     ]
    },
    {
     "cell_type": "code",
     "collapsed": false,
     "input": [
      "model = RandomForestRegressor(n_estimators=100, oob_score=True, random_state=42)\n",
      "model.fit(X, y)\n",
      "model.oob_score_"
     ],
     "language": "python",
     "metadata": {},
     "outputs": [
      {
       "metadata": {},
       "output_type": "pyout",
       "prompt_number": 8,
       "text": [
        "0.87407632733033835"
       ]
      }
     ],
     "prompt_number": 8
    },
    {
     "cell_type": "markdown",
     "metadata": {},
     "source": [
      "####The oob score is obtained using Jason's code."
     ]
    },
    {
     "cell_type": "code",
     "collapsed": false,
     "input": [
      "y_oob = model.oob_prediction_\n",
      "print \"c-stat: \", roc_auc_score(y, y_oob)"
     ],
     "language": "python",
     "metadata": {},
     "outputs": [
      {
       "output_type": "stream",
       "stream": "stdout",
       "text": [
        "c-stat:  0.99180996213\n"
       ]
      }
     ],
     "prompt_number": 9
    },
    {
     "cell_type": "markdown",
     "metadata": {},
     "source": [
      "####The AUC of the initial model obtained is 0.9918. Parameters can be adjusted/tweaked to further improve the model.\n"
     ]
    },
    {
     "cell_type": "code",
     "collapsed": false,
     "input": [
      "####Variable importance measures\n",
      "feature_importances = pd.Series(model.feature_importances_, index=X.columns)\n",
      "feature_importances.sort()\n",
      "feature_importances.plot(kind=\"barh\", figsize=(10,8));\n",
      "feature_importances"
     ],
     "language": "python",
     "metadata": {},
     "outputs": [
      {
       "metadata": {},
       "output_type": "pyout",
       "prompt_number": 10,
       "text": [
        "mitoses                     0.004736\n",
        "marginal_adhesion           0.013606\n",
        "epithelial_cell_size        0.015321\n",
        "normal_nucleoli             0.027124\n",
        "bland_chromatin             0.028800\n",
        "clump_thickness             0.047982\n",
        "bare_nuclei                 0.146715\n",
        "uniformity_of_cell_shape    0.155331\n",
        "uniformity_of_cell_size     0.560386\n",
        "dtype: float64"
       ]
      },
      {
       "metadata": {},
       "output_type": "display_data",
       "png": "[encoded data removed]",
       "text": [
        "<matplotlib.figure.Figure at 0x143b6ef0>"
       ]
      }
     ],
     "prompt_number": 10
    },
    {
     "cell_type": "heading",
     "level": 2,
     "metadata": {},
     "source": [
      "Parameter tests"
     ]
    },
    {
     "cell_type": "markdown",
     "metadata": {},
     "source": [
      "\u2022Parameters to test are:\n",
      "\n",
      "\u25fen_estimators: The number of trees in the forest.\n",
      "\n",
      "\u25femax_features: The number of features to consider when looking for the best split.\n",
      "\n",
      "\u25femin_samples_leaf: The minimum number of samples in newly created leaves.\n",
      "\n",
      "\u25fen_jobs: Determines if multiple processors should be used to train and test the model.\n",
      "\n"
     ]
    },
    {
     "cell_type": "markdown",
     "metadata": {},
     "source": [
      "####n_jobs"
     ]
    },
    {
     "cell_type": "code",
     "collapsed": false,
     "input": [
      "%%timeit\n",
      "model = RandomForestRegressor(1000, oob_score=True, n_jobs=1, random_state=42)\n",
      "model.fit(X, y)"
     ],
     "language": "python",
     "metadata": {},
     "outputs": [
      {
       "output_type": "stream",
       "stream": "stdout",
       "text": [
        "1 loops, best of 3: 2.94 s per loop\n"
       ]
      }
     ],
     "prompt_number": 11
    },
    {
     "cell_type": "code",
     "collapsed": false,
     "input": [
      "%%timeit\n",
      "model = RandomForestRegressor(1000, oob_score=True, n_jobs=-1, random_state=42)\n",
      "model.fit(X, y)"
     ],
     "language": "python",
     "metadata": {},
     "outputs": [
      {
       "output_type": "stream",
       "stream": "stdout",
       "text": [
        "1 loops, best of 3: 2.02 s per loop\n"
       ]
      }
     ],
     "prompt_number": 12
    },
    {
     "cell_type": "markdown",
     "metadata": {},
     "source": [
      "####n_estimators"
     ]
    },
    {
     "cell_type": "code",
     "collapsed": false,
     "input": [
      "results = []\n",
      "n_estimator_options = [30, 50, 100, 200, 500, 1000, 2000]\n",
      "\n",
      "for trees in n_estimator_options:\n",
      "    model = RandomForestRegressor(trees, oob_score=True, n_jobs=-1, random_state=42)\n",
      "    model.fit(X, y)\n",
      "    print trees, \"trees\"\n",
      "    roc = roc_auc_score(y, model.oob_prediction_)\n",
      "    print \"C-stat: \", roc\n",
      "    results.append(roc)\n",
      "    print \"\"\n",
      "    \n",
      "pd.Series(results, n_estimator_options).plot();"
     ],
     "language": "python",
     "metadata": {},
     "outputs": [
      {
       "output_type": "stream",
       "stream": "stdout",
       "text": [
        "30 trees\n",
        "C-stat:  0.989993476961\n",
        "\n",
        "50"
       ]
      },
      {
       "output_type": "stream",
       "stream": "stdout",
       "text": [
        " trees\n",
        "C-stat:  0.990614071645\n",
        "\n",
        "100"
       ]
      },
      {
       "output_type": "stream",
       "stream": "stdout",
       "text": [
        " trees\n",
        "C-stat:  0.99180996213\n",
        "\n",
        "200"
       ]
      },
      {
       "output_type": "stream",
       "stream": "stdout",
       "text": [
        " trees\n",
        "C-stat:  0.991850731124\n",
        "\n",
        "500"
       ]
      },
      {
       "output_type": "stream",
       "stream": "stdout",
       "text": [
        " trees\n",
        "C-stat:  0.992004747323\n",
        "\n",
        "1000"
       ]
      },
      {
       "output_type": "stream",
       "stream": "stdout",
       "text": [
        " trees\n",
        "C-stat:  0.991805432242\n",
        "\n",
        "2000"
       ]
      },
      {
       "output_type": "stream",
       "stream": "stdout",
       "text": [
        " trees\n",
        "C-stat:  0.992009277211\n",
        "\n"
       ]
      },
      {
       "metadata": {},
       "output_type": "display_data",
       "png": "[encoded data removed]",
       "text": [
        "<matplotlib.figure.Figure at 0x143b6d30>"
       ]
      }
     ]
    },
    {
     "cell_type": "markdown",
     "metadata": {},
     "source": [
      "#### n_estimator = 2000 from the above results."
     ]
    },
    {
     "cell_type": "markdown",
     "metadata": {},
     "source": [
      "####max_features"
     ]
    },
    {
     "cell_type": "code",
     "collapsed": false,
     "input": [
      "results = []\n",
      "max_features_options = [\"auto\", None, \"sqrt\", \"log2\", 0.9, 0.2]\n",
      "\n",
      "for max_features in max_features_options:\n",
      "    model = RandomForestRegressor(n_estimators=2000, oob_score=True, n_jobs=-1, random_state=42, max_features=max_features)\n",
      "    model.fit(X, y)\n",
      "    print max_features, \"option\"\n",
      "    roc = roc_auc_score(y, model.oob_prediction_)\n",
      "    print \"C-stat: \", roc\n",
      "    results.append(roc)\n",
      "    print \"\"\n",
      "    \n",
      "pd.Series(results, max_features_options).plot(kind=\"barh\", xlim=(.85,1.2));\n"
     ],
     "language": "python",
     "metadata": {},
     "outputs": []
    },
    {
     "cell_type": "markdown",
     "metadata": {},
     "source": [
      "####min_samples_leaf"
     ]
    },
    {
     "cell_type": "code",
     "collapsed": false,
     "input": [
      "results = []\n",
      "min_samples_leaf_options = [1, 2, 3, 4, 5, 6, 7, 8, 9, 10]\n",
      "\n",
      "for min_samples in min_samples_leaf_options:\n",
      "    model = RandomForestRegressor(n_estimators=2000, \n",
      "                                  oob_score=True, \n",
      "                                  n_jobs=-1, \n",
      "                                  random_state=42, \n",
      "                                  max_features=\"auto\", \n",
      "                                  min_samples_leaf=min_samples)\n",
      "    model.fit(X, y)\n",
      "    print min_samples, \"min samples\"\n",
      "    roc = roc_auc_score(y, model.oob_prediction_)\n",
      "    print \"C-stat: \", roc\n",
      "    results.append(roc)\n",
      "    print \"\"\n",
      "    \n",
      "pd.Series(results, min_samples_leaf_options).plot();"
     ],
     "language": "python",
     "metadata": {},
     "outputs": []
    },
    {
     "cell_type": "heading",
     "level": 2,
     "metadata": {},
     "source": [
      "Final model"
     ]
    },
    {
     "cell_type": "code",
     "collapsed": false,
     "input": [
      "model = RandomForestRegressor(n_estimators=2000, \n",
      "                              oob_score=True, \n",
      "                              n_jobs=-1, \n",
      "                              random_state=42, \n",
      "                              max_features=0.2, \n",
      "                              min_samples_leaf=1)\n",
      "model.fit(X, y)\n",
      "roc = roc_auc_score(y, model.oob_prediction_)\n",
      "print \"C-stat: \", roc"
     ],
     "language": "python",
     "metadata": {},
     "outputs": []
    },
    {
     "cell_type": "heading",
     "level": 1,
     "metadata": {},
     "source": [
      "The AUC is 0.9932"
     ]
    },
    {
     "cell_type": "code",
     "collapsed": false,
     "input": [],
     "language": "python",
     "metadata": {},
     "outputs": []
    },
    {
     "cell_type": "code",
     "collapsed": false,
     "input": [],
     "language": "python",
     "metadata": {},
     "outputs": []
    }
   ],
   "metadata": {}
  }
 ]
}